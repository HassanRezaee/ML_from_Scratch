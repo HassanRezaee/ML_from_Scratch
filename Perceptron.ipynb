{
 "cells": [
  {
   "cell_type": "code",
   "execution_count": 1,
   "id": "b90ec8e4",
   "metadata": {},
   "outputs": [],
   "source": [
    "import numpy as np\n",
    "from sklearn.model_selection import train_test_split\n",
    "from sklearn import datasets\n",
    "import matplotlib.pyplot as plt\n",
    "\n",
    "X, y = datasets.make_blobs(n_samples=150, n_features=2, centers=2, cluster_std=1.05)\n",
    "X_train, X_test, y_train, y_test = train_test_split(X, y, test_size=0.2)\n"
   ]
  },
  {
   "cell_type": "code",
   "execution_count": 7,
   "id": "8d045770",
   "metadata": {},
   "outputs": [],
   "source": [
    "class Perceptron:\n",
    "    \n",
    "    def __init__(self, learning_rate=0.01, n_iters=1000):\n",
    "        self.lr = learning_rate\n",
    "        self.n_iters = n_iters\n",
    "        self.activation_function = self._unit_step_func\n",
    "        self.weights = None\n",
    "        self.bias = None\n",
    "        \n",
    "    def _unit_step_func(self, x):\n",
    "        return np.where(x>0, 1, 0)\n",
    "    \n",
    "    def fit(self, X, y):\n",
    "        n_samples, n_features = X.shape\n",
    "        \n",
    "        # init the weights and bias\n",
    "        self.weights = np.zeros(n_features)\n",
    "        self.bias = 0\n",
    "        \n",
    "        y_ = np.array([1 if i>0 else 0 for i in y])\n",
    "        \n",
    "        for _ in range(self.n_iters):\n",
    "            for idx, x_i in enumerate(X):\n",
    "                linear_output = np.dot(x_i, self.weights) + self.bias\n",
    "                y_predicted = self.activation_function(linear_output)\n",
    "                update = self.lr * (y_[idx] - y_predicted)\n",
    "                self.weights += update * x_i\n",
    "                self.bias += update \n",
    "    \n",
    "    def predict(self, X):\n",
    "        linear_output = np.dot(X, self.weights) + self.bias\n",
    "        y_predicted = self.activation_function(linear_output)\n",
    "        return y_predicted\n"
   ]
  },
  {
   "cell_type": "code",
   "execution_count": 9,
   "id": "9198e103",
   "metadata": {},
   "outputs": [
    {
     "name": "stdout",
     "output_type": "stream",
     "text": [
      "Accuracy of the model is 100.0 %.\n"
     ]
    }
   ],
   "source": [
    "clf = Perceptron(learning_rate=0.001, n_iters = 1000)\n",
    "clf.fit(X_train, y_train)\n",
    "predictions = clf.predict(X_test)\n",
    "accuracy = np.mean(predictions==y_test)\n",
    "print(f'Accuracy of the model is {accuracy*100} %.')"
   ]
  },
  {
   "cell_type": "code",
   "execution_count": 11,
   "id": "b3992b45",
   "metadata": {},
   "outputs": [
    {
     "data": {
      "image/png": "[encoded data removed]",
      "text/plain": [
       "<Figure size 432x288 with 1 Axes>"
      ]
     },
     "metadata": {
      "needs_background": "light"
     },
     "output_type": "display_data"
    }
   ],
   "source": [
    "fig = plt.figure()\n",
    "ax = fig.add_subplot(1,1,1)\n",
    "plt.scatter(X_train[:,0], X_train[:,1], marker='o', c=y_train)\n",
    "x0_1 = np.amin(X_train[:,0])\n",
    "x0_2 = np.amax(X_train[:,0])\n",
    "\n",
    "x1_1 = (-clf.weights[0] * x0_1 -clf.bias) / clf.weights[1]\n",
    "x1_2 = (-clf.weights[0] * x0_2 -clf.bias) / clf.weights[1]\n",
    "\n",
    "ax.plot([x0_1, x0_2], [x1_1, x1_2], 'k')\n",
    "ymin = np.amin(X_train[:,1])\n",
    "ymin = np.amin(X_train[:,1])"
   ]
  }
 ],
 "metadata": {
  "kernelspec": {
   "display_name": "Python 3 (ipykernel)",
   "language": "python",
   "name": "python3"
  },
  "language_info": {
   "codemirror_mode": {
    "name": "ipython",
    "version": 3
   },
   "file_extension": ".py",
   "mimetype": "text/x-python",
   "name": "python",
   "nbconvert_exporter": "python",
   "pygments_lexer": "ipython3",
   "version": "3.9.7"
  }
 },
 "nbformat": 4,
 "nbformat_minor": 5
}
