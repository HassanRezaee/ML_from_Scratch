{
 "cells": [
  {
   "cell_type": "code",
   "execution_count": 12,
   "id": "33c61d1c",
   "metadata": {},
   "outputs": [],
   "source": [
    "import numpy as np\n",
    "from sklearn import datasets\n",
    "from sklearn.model_selection import train_test_split\n",
    "\n",
    "data = datasets.load_breast_cancer()\n",
    "X = data.data\n",
    "y = data.target\n",
    "y[y==0] = -1\n",
    "X_train, X_test, y_train, y_test = train_test_split(X, y, test_size=0.2, random_state=151)"
   ]
  },
  {
   "cell_type": "code",
   "execution_count": 16,
   "id": "fca30768",
   "metadata": {},
   "outputs": [],
   "source": [
    "\n",
    "class DecisionStump:\n",
    "    \n",
    "    def __init__(self):\n",
    "        self.polarity = 1 # this tells us if a sample should be signed as +1 or -1 for a given threshold\n",
    "        self.feature_index = None\n",
    "        self.threshold = None\n",
    "        self.alpha = None\n",
    "    \n",
    "    def predict(self, X):\n",
    "        n_samples = X.shape[0]\n",
    "        X_column = X[:, self.feature_index]\n",
    "        \n",
    "        predictions = np.ones(n_samples)\n",
    "        if self.polarity == 1:\n",
    "            predictions[X_column < self.threshold] = -1\n",
    "        else:\n",
    "            predictions[X_column > self.threshold] = -1\n",
    "        return predictions\n",
    "    \n",
    "    \n",
    "class Adaboost:\n",
    "    \n",
    "    def __init__(self, n_clf=5):\n",
    "        self.n_clf = n_clf\n",
    "        \n",
    "    def fit(self, X, y):\n",
    "        n_samples, n_features = X.shape\n",
    "        \n",
    "        # init the weights\n",
    "        w = np.full(n_samples, (1/n_samples)) # creates a vector of 1/n_samples of length n_samples\n",
    "        \n",
    "        self.clfs = []\n",
    "        for _ in range(self.n_clf):\n",
    "            clf = DecisionStump()\n",
    "            min_error= float('inf')\n",
    "            for feature_i in range(n_features):\n",
    "                X_column = X[:, feature_i]\n",
    "                thresholds = np.unique(X_column)\n",
    "                for threshold in thresholds:\n",
    "                    p = 1 # polarity\n",
    "                    predictions = np.ones(n_samples)\n",
    "                    predictions[X_column < threshold] = -1\n",
    "                    \n",
    "                    # get error over mis-classified samples\n",
    "                    missclassified = w[y != predictions]\n",
    "                    error = sum(missclassified)\n",
    "                    if error > 0.5:\n",
    "                        error = 1-error\n",
    "                        p = -1\n",
    "                    \n",
    "                    \n",
    "                    # On the polarity parameter p:\n",
    "                    # The amount of say (alpha) will be negative when the sample is correctly classified.\n",
    "                    # The amount of say (alpha) will be positive when the sample is miss-classified.\n",
    "                    # The rationale behind is:\n",
    "                    # If it is a strong stump: we will decrease the weight for correctly-labels samples,\n",
    "                    # and will increase the weight for incorrectly-labels samples more\n",
    "                    # If it is a weak stump: we will decrease the weight for correctly-labels samples,\n",
    "                    # and will increase the weight for incorrectly-labels samples less\n",
    "\n",
    "                    if error < min_error:\n",
    "                        min_error = error\n",
    "                        clf.polarity = p\n",
    "                        clf.threshold = threshold\n",
    "                        clf.feature_index = feature_i\n",
    "                        \n",
    "            eps = 1e-10 # to avoid over/under flow\n",
    "            clf.alpha = 0.5 * np.log(1-error/(error+eps)) # range in [0, 1] where 0 for perfect stump and 1 horrible stump\n",
    "            \n",
    "            predictions = clf.predict(X)\n",
    "            \n",
    "            w *= np.exp(-clf.alpha * y * predictions)\n",
    "            w /= np.sum(w) # normalize new weights to sum to 1\n",
    "            \n",
    "            self.clfs.append(clf)\n",
    "            \n",
    "    def predict(self, X):\n",
    "        clf_preds = [clf.alpha * clf.predict(X) for clf in self.clfs ]\n",
    "        y_pred = np.sum(clf_preds, axis=0)\n",
    "        y_pred = np.sign(y_pred)\n",
    "        return y_pred"
   ]
  },
  {
   "cell_type": "code",
   "execution_count": 17,
   "id": "9c213cdd",
   "metadata": {},
   "outputs": [
    {
     "name": "stdout",
     "output_type": "stream",
     "text": [
      "0.14035087719298245\n"
     ]
    }
   ],
   "source": [
    "clf = Adaboost(n_clf = 5)\n",
    "clf.fit(X_train, y_train)\n",
    "y_pred = clf.predict(X_test)\n",
    "print(np.mean(y_test == y_pred))"
   ]
  }
 ],
 "metadata": {
  "kernelspec": {
   "display_name": "Python 3 (ipykernel)",
   "language": "python",
   "name": "python3"
  },
  "language_info": {
   "codemirror_mode": {
    "name": "ipython",
    "version": 3
   },
   "file_extension": ".py",
   "mimetype": "text/x-python",
   "name": "python",
   "nbconvert_exporter": "python",
   "pygments_lexer": "ipython3",
   "version": "3.9.7"
  }
 },
 "nbformat": 4,
 "nbformat_minor": 5
}
