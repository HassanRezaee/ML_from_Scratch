{
 "cells": [
  {
   "cell_type": "code",
   "execution_count": 1,
   "id": "6fcb6f39",
   "metadata": {},
   "outputs": [],
   "source": [
    "import csv\n",
    "import numpy as np\n",
    "import pandas as pd"
   ]
  },
  {
   "cell_type": "code",
   "execution_count": 11,
   "id": "316e397d",
   "metadata": {},
   "outputs": [
    {
     "name": "stdout",
     "output_type": "stream",
     "text": [
      "(4601, 58)\n",
      "(4601, 57)\n",
      "(4601,)\n"
     ]
    }
   ],
   "source": [
    "fname = \"spambase.data\"\n",
    "\n",
    "\n",
    "# Using csv module - least efficient\n",
    "\n",
    "with open(fname, \"r\") as f:\n",
    "    data = list(csv.reader(f, delimiter=\",\"))\n",
    "data = np.array(data)\n",
    "print(data.shape)\n",
    "n_samples, n_features = data.shape\n",
    "\n",
    "n_features -= 1\n",
    "X = data[:, 0:n_features]\n",
    "y = data[:, n_features]\n",
    "print(X.shape)\n",
    "print(y.shape)"
   ]
  },
  {
   "cell_type": "code",
   "execution_count": 12,
   "id": "09c4ee99",
   "metadata": {},
   "outputs": [
    {
     "name": "stdout",
     "output_type": "stream",
     "text": [
      "(4601, 58)\n",
      "(4601, 58)\n"
     ]
    }
   ],
   "source": [
    "# Using numpy better\n",
    "data = np.loadtxt(fname, delimiter=\",\")\n",
    "print(data.shape)\n",
    "\n",
    "# BEST approach (faster and more options such as missing data)\n",
    "data = np.genfromtxt(fname, delimiter=\",\", dtype=np.float32)\n",
    "print(data.shape)"
   ]
  },
  {
   "cell_type": "code",
   "execution_count": 21,
   "id": "5a7c06d0",
   "metadata": {
    "scrolled": true
   },
   "outputs": [
    {
     "name": "stdout",
     "output_type": "stream",
     "text": [
      "(4600, 58)\n",
      "(4601, 58)\n"
     ]
    }
   ],
   "source": [
    "# Using pandas\n",
    "df = pd.read_csv(fname, delimiter=\",\")  # In the default use, pandas tries to form a header, so the nrow will be one less\n",
    "data = df.to_numpy()\n",
    "print(data.shape)\n",
    "\n",
    "# \n",
    "df = pd.read_csv(fname, delimiter=\",\", header=None)\n",
    "data = df.to_numpy()\n",
    "print(data.shape)"
   ]
  },
  {
   "cell_type": "code",
   "execution_count": 14,
   "id": "865ec58e",
   "metadata": {},
   "outputs": [
    {
     "name": "stdout",
     "output_type": "stream",
     "text": [
      "(4601, 58)\n",
      "<class 'numpy.float32'>\n"
     ]
    }
   ],
   "source": [
    "# specifying data type in advance\n",
    "\n",
    "df = pd.read_csv(fname, delimiter=\",\", header=None, dtype=np.float32)\n",
    "data = df.to_numpy()\n",
    "print(data.shape)\n",
    "print(type(data[0][0]))"
   ]
  },
  {
   "cell_type": "code",
   "execution_count": 23,
   "id": "27e0e348",
   "metadata": {},
   "outputs": [
    {
     "name": "stdout",
     "output_type": "stream",
     "text": [
      "(4601, 58)\n",
      "<class 'numpy.float32'>\n"
     ]
    }
   ],
   "source": [
    "# converting dtype after\n",
    "df = pd.read_csv(fname, delimiter=\",\", header=None)\n",
    "data = df.to_numpy()\n",
    "data = np.asarray(data, dtype=np.float32)\n",
    "print(data.shape)\n",
    "print(type(data[0][0]))"
   ]
  },
  {
   "cell_type": "code",
   "execution_count": 16,
   "id": "652c763b",
   "metadata": {},
   "outputs": [],
   "source": [
    "# If data rows have headers\n",
    "data = np.genfromtxt(fname, delimiter=\",\", dtype=np.float32, skip_header=1) # assuming first row is the header\n",
    "df = pd.read_csv(fname, delimiter=\",\", header=None, dtype=np.float32, skiprows=1)"
   ]
  },
  {
   "cell_type": "code",
   "execution_count": 22,
   "id": "b58c8556",
   "metadata": {},
   "outputs": [],
   "source": [
    "# Data set with missing values\n",
    "# In this case we will have 'nan' for missing cells\n",
    "\n",
    "\n",
    "data = np.genfromtxt(fname, delimiter=\",\", dtype=np.float32, skip_header=1, missing_values=\"Hello\", filling_values=9999.0)\n",
    "\n",
    "df = pd.read_csv(fname, delimiter=\",\", header=None, dtype=np.float32, skiprows=1, na_values = [\"Hello\"])\n",
    "df = df.fillna(999.0)"
   ]
  }
 ],
 "metadata": {
  "kernelspec": {
   "display_name": "Python 3 (ipykernel)",
   "language": "python",
   "name": "python3"
  },
  "language_info": {
   "codemirror_mode": {
    "name": "ipython",
    "version": 3
   },
   "file_extension": ".py",
   "mimetype": "text/x-python",
   "name": "python",
   "nbconvert_exporter": "python",
   "pygments_lexer": "ipython3",
   "version": "3.9.7"
  }
 },
 "nbformat": 4,
 "nbformat_minor": 5
}
