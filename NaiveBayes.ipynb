{
 "cells": [
  {
   "cell_type": "code",
   "execution_count": 54,
   "id": "24d02fd8",
   "metadata": {},
   "outputs": [
    {
     "name": "stdout",
     "output_type": "stream",
     "text": [
      "3\n",
      "The available classes are 0, 1, and 2\n"
     ]
    }
   ],
   "source": [
    "import numpy as np\n",
    "from sklearn import datasets\n",
    "from sklearn.model_selection import train_test_split\n",
    "import matplotlib.pyplot as plt\n",
    "\n",
    "data = datasets.load_iris()\n",
    "X = data.data\n",
    "y = data.target\n",
    "\n",
    "classes = np.unique(y)\n",
    "print(len(classes))\n",
    "print(f'The available classes are {classes[0]}, {classes[1]}, and {classes[2]}')   \n",
    "\n",
    "X_train, X_test, y_train, y_test = train_test_split(X, y, test_size=0.2)"
   ]
  },
  {
   "cell_type": "code",
   "execution_count": 52,
   "id": "0b3f07ab",
   "metadata": {},
   "outputs": [],
   "source": [
    "class NaiveBayes():\n",
    "    \n",
    "    def fit(self, X, y):\n",
    "        n_samples, n_features = X.shape\n",
    "        self._classes = np.unique(y)\n",
    "        n_classes = len(self._classes)\n",
    "        \n",
    "        # init the mean, vars and priors\n",
    "        self._mean = np.zeros((n_classes, n_features), dtype=np.float64)\n",
    "        self._var = np.zeros((n_classes, n_features), dtype=np.float64)\n",
    "        self._priors = np.zeros(n_classes, dtype=np.float64)\n",
    "        \n",
    "        for c in self._classes:\n",
    "            X_c = X[c==y]\n",
    "            self._mean[c,:] = X_c.mean(axis=0)\n",
    "            self._var[c,:] = X_c.var(axis=0)\n",
    "            self._priors[c] = X_c.shape[0]/float(n_samples)\n",
    "        \n",
    "    def predict(self, X):\n",
    "        y_predict = [self._predict(x) for x in X]\n",
    "        return y_predict\n",
    "    \n",
    "    def _predict(self, x):\n",
    "        posteriors = []\n",
    "        for idx, c in enumerate(self._classes):\n",
    "            prior = np.log(self._priors[idx])\n",
    "            class_posterior = np.sum(np.log(self._pdf(idx, x)))\n",
    "            posterior = prior + class_posterior\n",
    "            posteriors.append(posterior)\n",
    "        return self._classes[np.argmax(posteriors)]\n",
    "            \n",
    "    \n",
    "    def _pdf(self, class_idx, x):\n",
    "        mean = self._mean[class_idx]\n",
    "        var = self._var[class_idx]\n",
    "        nominator = np.exp(-(x-mean)**2 / (2*var))\n",
    "        denominator = np.sqrt(2 * np.pi * var)\n",
    "        return nominator / denominator\n",
    "        \n",
    "def accuracy(true, pred):\n",
    "    return np.mean(true==pred)"
   ]
  },
  {
   "cell_type": "code",
   "execution_count": 55,
   "id": "d0231de3",
   "metadata": {},
   "outputs": [
    {
     "name": "stdout",
     "output_type": "stream",
     "text": [
      "0.9666666666666667\n"
     ]
    }
   ],
   "source": [
    "clf = NaiveBayes()\n",
    "clf.fit(X_train, y_train)\n",
    "predictions = clf.predict(X_test)\n",
    "\n",
    "print(accuracy(y_test, predictions))\n",
    "\n"
   ]
  }
 ],
 "metadata": {
  "kernelspec": {
   "display_name": "Python 3 (ipykernel)",
   "language": "python",
   "name": "python3"
  },
  "language_info": {
   "codemirror_mode": {
    "name": "ipython",
    "version": 3
   },
   "file_extension": ".py",
   "mimetype": "text/x-python",
   "name": "python",
   "nbconvert_exporter": "python",
   "pygments_lexer": "ipython3",
   "version": "3.9.7"
  }
 },
 "nbformat": 4,
 "nbformat_minor": 5
}
